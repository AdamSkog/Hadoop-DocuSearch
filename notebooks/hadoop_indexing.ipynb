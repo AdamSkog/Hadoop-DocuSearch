{
 "cells": [
  {
   "cell_type": "code",
   "execution_count": 1,
   "metadata": {},
   "outputs": [
    {
     "name": "stderr",
     "output_type": "stream",
     "text": [
      "Java started and loaded: pyterrier.java, pyterrier.terrier.java [version=5.10 (build: craigm 2024-08-22 17:33), helper_version=0.0.8]\n",
      "C:\\Users\\AJS\\AppData\\Local\\Temp\\ipykernel_11884\\2148191931.py:8: DeprecationWarning: Call to deprecated method pt.init(). Deprecated since version 0.11.0.\n",
      "java is now started automatically with default settings. To force initialisation early, run:\n",
      "pt.java.init() # optional, forces java initialisation\n",
      "  pt.init()\n"
     ]
    }
   ],
   "source": [
    "import pyterrier as pt\n",
    "import os\n",
    "import pandas as pd\n",
    "import warnings\n",
    "warnings.filterwarnings(\"ignore\") # To get rid of pyterrier warnings\n",
    "\n",
    "if not pt.started():\n",
    "  pt.init()"
   ]
  },
  {
   "cell_type": "code",
   "execution_count": 2,
   "metadata": {},
   "outputs": [
    {
     "name": "stdout",
     "output_type": "stream",
     "text": [
      "Number of documents: 1200\n",
      "Number of terms: 6851\n",
      "Number of postings: 91026\n",
      "Number of fields: 0\n",
      "Number of tokens: 497326\n",
      "Field names: []\n",
      "Positions:   false\n",
      "\n"
     ]
    }
   ],
   "source": [
    "path = os.path.abspath(\"../\")\n",
    "index_path = os.path.join(path, \"hadoopindex/data.properties\")\n",
    "\n",
    "# Check if the index already exists\n",
    "if os.path.exists(index_path):\n",
    "    index = pt.IndexFactory.of(index_path)\n",
    "else:\n",
    "    # Collect files from the specified folder\n",
    "    files = pt.io.find_files(os.path.join(path, \"apache.github.io\"))\n",
    "    \n",
    "    # Limit the number of files to 1200 as as per assignment requests\n",
    "    files = files[:1200]\n",
    "    \n",
    "    # Create a new index\n",
    "    indexer = pt.FilesIndexer(os.path.join(path, \"hadoopindex\"), \n",
    "                              verbose=True, blocks=False,\n",
    "                              meta={\"docno\": 20, \"filename\": 1024, \"title\": 1024}, \n",
    "                              meta_tags={\"title\": \"title\"})\n",
    "    indexref = indexer.index(files)\n",
    "    index = pt.IndexFactory.of(indexref)\n",
    "\n",
    "# Print the collection statistics\n",
    "print(index.getCollectionStatistics().toString())"
   ]
  },
  {
   "cell_type": "code",
   "execution_count": null,
   "metadata": {},
   "outputs": [
    {
     "data": {
      "text/html": [
       "<div>\n",
       "<style scoped>\n",
       "    .dataframe tbody tr th:only-of-type {\n",
       "        vertical-align: middle;\n",
       "    }\n",
       "\n",
       "    .dataframe tbody tr th {\n",
       "        vertical-align: top;\n",
       "    }\n",
       "\n",
       "    .dataframe thead th {\n",
       "        text-align: right;\n",
       "    }\n",
       "</style>\n",
       "<table border=\"1\" class=\"dataframe\">\n",
       "  <thead>\n",
       "    <tr style=\"text-align: right;\">\n",
       "      <th></th>\n",
       "      <th>qid</th>\n",
       "      <th>query</th>\n",
       "    </tr>\n",
       "  </thead>\n",
       "  <tbody>\n",
       "    <tr>\n",
       "      <th>0</th>\n",
       "      <td>q1</td>\n",
       "      <td>speak</td>\n",
       "    </tr>\n",
       "    <tr>\n",
       "      <th>1</th>\n",
       "      <td>q2</td>\n",
       "      <td>indulge</td>\n",
       "    </tr>\n",
       "    <tr>\n",
       "      <th>2</th>\n",
       "      <td>q3</td>\n",
       "      <td>swans</td>\n",
       "    </tr>\n",
       "  </tbody>\n",
       "</table>\n",
       "</div>"
      ],
      "text/plain": [
       "  qid    query\n",
       "0  q1    speak\n",
       "1  q2  indulge\n",
       "2  q3    swans"
      ]
     },
     "execution_count": 3,
     "metadata": {},
     "output_type": "execute_result"
    }
   ],
   "source": [
    "queries = pd.DataFrame([[\"q1\",\"speak\"], [\"q2\",\"indulge\"], [\"q3\", \"swans\"]], columns=[\"qid\",\"query\"])\n",
    "queries"
   ]
  },
  {
   "cell_type": "code",
   "execution_count": null,
   "metadata": {},
   "outputs": [
    {
     "name": "stderr",
     "output_type": "stream",
     "text": [
      "C:\\Users\\Fortu\\AppData\\Local\\Temp\\ipykernel_44008\\767491211.py:4: DeprecationWarning: Call to deprecated class BatchRetrieve. (use pt.terrier.Retriever() instead) -- Deprecated since version 0.11.0.\n",
      "  BM = pt.BatchRetrieve(index, wmodel=\"BM25\")\n"
     ]
    },
    {
     "data": {
      "text/html": [
       "<div>\n",
       "<style scoped>\n",
       "    .dataframe tbody tr th:only-of-type {\n",
       "        vertical-align: middle;\n",
       "    }\n",
       "\n",
       "    .dataframe tbody tr th {\n",
       "        vertical-align: top;\n",
       "    }\n",
       "\n",
       "    .dataframe thead th {\n",
       "        text-align: right;\n",
       "    }\n",
       "</style>\n",
       "<table border=\"1\" class=\"dataframe\">\n",
       "  <thead>\n",
       "    <tr style=\"text-align: right;\">\n",
       "      <th></th>\n",
       "      <th>qid</th>\n",
       "      <th>docid</th>\n",
       "      <th>docno</th>\n",
       "      <th>rank</th>\n",
       "      <th>score</th>\n",
       "      <th>query</th>\n",
       "    </tr>\n",
       "  </thead>\n",
       "  <tbody>\n",
       "    <tr>\n",
       "      <th>0</th>\n",
       "      <td>q1</td>\n",
       "      <td>1856</td>\n",
       "      <td>d1857</td>\n",
       "      <td>0</td>\n",
       "      <td>10.048371</td>\n",
       "      <td>speak</td>\n",
       "    </tr>\n",
       "    <tr>\n",
       "      <th>1</th>\n",
       "      <td>q1</td>\n",
       "      <td>1666</td>\n",
       "      <td>d1667</td>\n",
       "      <td>1</td>\n",
       "      <td>9.496451</td>\n",
       "      <td>speak</td>\n",
       "    </tr>\n",
       "  </tbody>\n",
       "</table>\n",
       "</div>"
      ],
      "text/plain": [
       "  qid  docid  docno  rank      score  query\n",
       "0  q1   1856  d1857     0  10.048371  speak\n",
       "1  q1   1666  d1667     1   9.496451  speak"
      ]
     },
     "execution_count": 5,
     "metadata": {},
     "output_type": "execute_result"
    }
   ],
   "source": [
    "# Similar script as assignment 4\n",
    "index = pt.IndexFactory.of(index_path)\n",
    "BM = pt.BatchRetrieve(index, wmodel=\"BM25\")\n",
    "BM.transform(queries)"
   ]
  },
  {
   "cell_type": "code",
   "execution_count": 14,
   "metadata": {},
   "outputs": [
    {
     "name": "stdout",
     "output_type": "stream",
     "text": [
      "c:/Users/Fortu/Downloads/SearchRec_FinalProject/apache.github.io\\hadoop\\api\\org\\apache\\hadoop\\mapreduce\\lib\\aggregate\\ValueAggregatorJob.html\n"
     ]
    }
   ],
   "source": [
    "docid = 1856\n",
    "document = index.getMetaIndex().getItem(\"filename\", docid)\n",
    "print(document)"
   ]
  }
 ],
 "metadata": {
  "kernelspec": {
   "display_name": "info376",
   "language": "python",
   "name": "python3"
  },
  "language_info": {
   "codemirror_mode": {
    "name": "ipython",
    "version": 3
   },
   "file_extension": ".py",
   "mimetype": "text/x-python",
   "name": "python",
   "nbconvert_exporter": "python",
   "pygments_lexer": "ipython3",
   "version": "3.10.14"
  }
 },
 "nbformat": 4,
 "nbformat_minor": 2
}
