{
 "cells": [
  {
   "cell_type": "markdown",
   "metadata": {},
   "source": [
    "# Final Project Report"
   ]
  },
  {
   "cell_type": "markdown",
   "metadata": {},
   "source": [
    "### A text collection (unstructured data) of a \"reasonable\" size (collected by a crawl). Aim for around 1,000 indexable documents. Do not go over by much as we have limited space on the server."
   ]
  },
  {
   "cell_type": "markdown",
   "metadata": {},
   "source": [
    "### A user interface with proper navigational tools so that even a naive user can utilize it with ease."
   ]
  },
  {
   "cell_type": "markdown",
   "metadata": {},
   "source": [
    "### A search facility that allows one to perform full-text search in the collection."
   ]
  },
  {
   "cell_type": "markdown",
   "metadata": {},
   "source": [
    "### A way to visualize the information (rank list, clusters, tag-cloud, etc.)."
   ]
  },
  {
   "cell_type": "markdown",
   "metadata": {},
   "source": [
    "### A recommendation function based on logged interactions (see next point), a pre-trained model for related queries or documents, or even one created manually. More details were provided in the class."
   ]
  },
  {
   "cell_type": "markdown",
   "metadata": {},
   "source": [
    "### A mechanism to log all the user interactions. You can do this with a database, if you feel comfortable, or a simple text file."
   ]
  }
 ],
 "metadata": {
  "language_info": {
   "name": "python"
  }
 },
 "nbformat": 4,
 "nbformat_minor": 2
}
